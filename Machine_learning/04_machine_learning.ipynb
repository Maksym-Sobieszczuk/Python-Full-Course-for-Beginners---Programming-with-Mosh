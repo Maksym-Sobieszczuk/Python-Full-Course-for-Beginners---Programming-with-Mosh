{
 "cells": [
  {
   "cell_type": "code",
   "execution_count": 1,
   "metadata": {},
   "outputs": [],
   "source": [
    "import pandas as pd \n",
    "from sklearn.tree import DecisionTreeClassifier\n",
    "from sklearn import tree \n",
    "\n",
    "df = pd.read_csv('music.csv')\n",
    "X = df.drop(columns=['genre'])\n",
    "Y = df['genre']\n",
    "\n",
    "model = DecisionTreeClassifier()\n",
    "model.fit(X, Y)\n",
    "\n",
    "tree.export_graphviz(model, \n",
    "    out_file='music-recommender.dot', \n",
    "    feature_names=['age', 'gender'], \n",
    "    class_names=sorted(Y.unique()), \n",
    "    label='all', rounded=True, \n",
    "    filled=True)"
   ]
  }
 ],
 "metadata": {
  "kernelspec": {
   "display_name": "maksym",
   "language": "python",
   "name": "python3"
  },
  "language_info": {
   "codemirror_mode": {
    "name": "ipython",
    "version": 3
   },
   "file_extension": ".py",
   "mimetype": "text/x-python",
   "name": "python",
   "nbconvert_exporter": "python",
   "pygments_lexer": "ipython3",
   "version": "3.12.2"
  }
 },
 "nbformat": 4,
 "nbformat_minor": 2
}
